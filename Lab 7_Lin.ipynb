{
 "cells": [
  {
   "cell_type": "markdown",
   "metadata": {},
   "source": [
    "# Lab 7 RNN"
   ]
  },
  {
   "cell_type": "markdown",
   "metadata": {},
   "source": [
    "In today's age of ocean of vast data all around us, it is crucial to extract the important and relevant information from it in proper context. In the entertainment industry specially moviews which are made for the entertainment of the people, their opinions express the sentiment and the analysis done on these opinions and reviews which are in textual form and categorising them as Positive or Negative will help in deriving overall Moview opinion that is obtained from consumer reviews. It finds applications in the fields of business intelligence, recommender systems (so as to be able to understand the sentiment in a user’s feedback), in online surveys that have natural language sentences as responses,message filtering, assessing movie review polarity, among others.\n",
    "Based on these reviews and analysis done on it, can also help the directors, producers, invetors in deciding the kinds of filns they should be making and investing in which will be more likable to the people and help them generate revenue in large number."
   ]
  },
  {
   "cell_type": "code",
   "execution_count": 1,
   "metadata": {},
   "outputs": [
    {
     "name": "stderr",
     "output_type": "stream",
     "text": [
      "Using TensorFlow backend.\n"
     ]
    }
   ],
   "source": [
    "import pyprind\n",
    "import pandas as pd\n",
    "import os\n",
    "import numpy as np\n",
    "import keras\n",
    "import sys  \n",
    "import re\n",
    "\n",
    "from IPython.display import SVG\n",
    "from keras.utils.vis_utils import model_to_dot"
   ]
  },
  {
   "cell_type": "markdown",
   "metadata": {},
   "source": [
    "We run the below code to generate the movie_data.csv"
   ]
  },
  {
   "cell_type": "code",
   "execution_count": 2,
   "metadata": {},
   "outputs": [
    {
     "name": "stderr",
     "output_type": "stream",
     "text": [
      "0% [##############################] 100% | ETA: 00:00:00\n",
      "Total time elapsed: 00:01:42\n"
     ]
    }
   ],
   "source": [
    "#Download from http://ai.stanford.edu/~amaas/data/sentiment/aclImdb_v1.tar.gz and save it to this folder.\n",
    "\n",
    "basepath='./aclImdb'\n",
    "\n",
    "labels = {'pos': 1, 'neg': 0}\n",
    "pbar = pyprind.ProgBar(50000)\n",
    "df = pd.DataFrame()\n",
    "for s in ('test', 'train'):\n",
    "     for l in ('pos', 'neg'):\n",
    "        path = os.path.join(basepath, s, l)\n",
    "        for file in os.listdir(path):\n",
    "            with open(os.path.join(path, file), 'r',\n",
    "                       encoding='utf-8') as infile:\n",
    "                 txt = infile.read()\n",
    "            df = df.append([[txt, labels[l]]], ignore_index=True)\n",
    "            pbar.update()\n",
    "df.columns = ['review', 'sentiment']\n",
    "np.random.seed(0)\n",
    "df = df.reindex(np.random.permutation(df.index))\n",
    "df.to_csv('./movie_data.csv', index=False)"
   ]
  },
  {
   "cell_type": "code",
   "execution_count": 3,
   "metadata": {},
   "outputs": [
    {
     "name": "stdout",
     "output_type": "stream",
     "text": [
      "[nltk_data] Downloading package stopwords to /home/lisper/nltk_data...\n",
      "[nltk_data]   Package stopwords is already up-to-date!\n"
     ]
    },
    {
     "data": {
      "text/plain": [
       "True"
      ]
     },
     "execution_count": 3,
     "metadata": {},
     "output_type": "execute_result"
    }
   ],
   "source": [
    "import nltk\n",
    "from nltk.corpus import stopwords\n",
    "\n",
    "nltk.download('stopwords')"
   ]
  },
  {
   "cell_type": "code",
   "execution_count": 4,
   "metadata": {},
   "outputs": [
    {
     "name": "stdout",
     "output_type": "stream",
     "text": [
      "(30000, 2) df\n"
     ]
    }
   ],
   "source": [
    "dfmain = pd.read_csv('./movie_data.csv')\n",
    "df = dfmain.iloc[:30000]\n",
    "print(df.shape,'df')\n"
   ]
  },
  {
   "cell_type": "code",
   "execution_count": 5,
   "metadata": {
    "collapsed": true
   },
   "outputs": [],
   "source": [
    "def preprocessor(text):\n",
    "    #Remove HTML\n",
    "    text = re.sub('<[^>]*>', '', text)\n",
    "    emoticons = re.findall('(?::|;|=)(?:-)?(?:\\)|\\(|D|P)', text)\n",
    "    text = re.sub('[\\W]+', ' ', text.lower()) +\\\n",
    "        ' '.join(emoticons).replace('-', '')\n",
    "        \n",
    "    #Remove non-letters        \n",
    "    letters_only = re.sub(\"[^a-zA-Z]\", \" \", text) \n",
    "    #\n",
    "    #Convert to lower case, split into individual words\n",
    "    words = letters_only.lower().split()                             \n",
    "    #\n",
    "    #In Python, searching a set is much faster than searching\n",
    "    #   a list, so convert the stop words to a set\n",
    "    stops = set(stopwords.words(\"english\"))  #This is for speed                \n",
    "    # \n",
    "    #Remove stop words\n",
    "    meaningful_words = [w for w in words if not w in stops]   \n",
    "    # \n",
    "    #Join the words back into one string separated by space, \n",
    "    # and return the result.\n",
    "    #print(meaningful_words)\n",
    "    return( \" \".join( meaningful_words ))# to make the output easier to use in our Bag of Words"
   ]
  },
  {
   "cell_type": "code",
   "execution_count": 6,
   "metadata": {},
   "outputs": [
    {
     "name": "stderr",
     "output_type": "stream",
     "text": [
      "/home/lisper/anaconda3/lib/python3.6/site-packages/ipykernel_launcher.py:1: SettingWithCopyWarning: \n",
      "A value is trying to be set on a copy of a slice from a DataFrame.\n",
      "Try using .loc[row_indexer,col_indexer] = value instead\n",
      "\n",
      "See the caveats in the documentation: http://pandas.pydata.org/pandas-docs/stable/indexing.html#indexing-view-versus-copy\n",
      "  \"\"\"Entry point for launching an IPython kernel.\n"
     ]
    }
   ],
   "source": [
    "df['review'] = df['review'].apply(preprocessor)"
   ]
  },
  {
   "cell_type": "code",
   "execution_count": 7,
   "metadata": {},
   "outputs": [
    {
     "data": {
      "text/plain": [
       "0    cure one movies rated mean everything flawless...\n",
       "1    cameron mitchell plays actor dating young actr...\n",
       "2    ever hear three words uttered joe baker afraid...\n",
       "Name: review, dtype: object"
      ]
     },
     "execution_count": 7,
     "metadata": {},
     "output_type": "execute_result"
    }
   ],
   "source": [
    "df['review'].head(3)"
   ]
  },
  {
   "cell_type": "code",
   "execution_count": 8,
   "metadata": {},
   "outputs": [
    {
     "name": "stdout",
     "output_type": "stream",
     "text": [
      "Found 81770 unique tokens. Distilled to 10000 top words.\n"
     ]
    }
   ],
   "source": [
    "from keras.preprocessing.text import Tokenizer\n",
    "from keras.preprocessing.sequence import pad_sequences\n",
    "\n",
    "NUM_TOP_WORDS = 10000\n",
    "\n",
    "tokenizer = Tokenizer(num_words=NUM_TOP_WORDS)\n",
    "tokenizer.fit_on_texts(df['review'].values)\n",
    "sequences = tokenizer.texts_to_sequences(df['review'].values)\n",
    "\n",
    "word_index = tokenizer.word_index\n",
    "NUM_TOP_WORDS = len(word_index) if NUM_TOP_WORDS==None else NUM_TOP_WORDS\n",
    "top_words = min((len(word_index),NUM_TOP_WORDS))\n",
    "print('Found %s unique tokens. Distilled to %d top words.' % (len(word_index),top_words))"
   ]
  },
  {
   "cell_type": "code",
   "execution_count": 9,
   "metadata": {},
   "outputs": [
    {
     "name": "stdout",
     "output_type": "stream",
     "text": [
      "Shape of data tensor: (30000, 100)\n",
      "Shape of label tensor: (30000, 2)\n",
      "9999\n"
     ]
    }
   ],
   "source": [
    "maxlen = 100 # Make all sequences 100 words long\n",
    "X = pad_sequences(sequences, maxlen=maxlen)\n",
    "y = df['sentiment']\n",
    "y_ohe = keras.utils.to_categorical(df['sentiment'])\n",
    "print('Shape of data tensor:', X.shape)\n",
    "print('Shape of label tensor:', y_ohe.shape)\n",
    "print(np.max(X))"
   ]
  },
  {
   "cell_type": "markdown",
   "metadata": {},
   "source": [
    "# TODO \n",
    "[10 points] Define and prepare your class variables. Use proper variable representations (int, float, one-hot, etc.). Use pre-processing methods (as needed). Describe the final dataset that is used for classification/regression (include a description of any newly formed variables you created).   \n",
    "\n",
    "[10 points] Choose and explain what metric(s) you will use to evaluate your algorithm’s performance. You should give a detailed argument for why this (these) metric(s) are appropriate on your data. That is, why is the metric appropriate for the task (e.g., in terms of the business case for the task). Please note: rarely is accuracy the best evaluation metric to use. Think deeply about an appropriate measure of performance.\n",
    "\n",
    "[10 points] Choose the method you will use for dividing your data into training and testing (i.e., are you using Stratified 10-fold cross validation? Shuffle splits? Why?). Explain why your chosen method is appropriate or use more than one method as appropriate. Convince me that your cross validation method is a realistic mirroring of how an algorithm would be used in practice. "
   ]
  },
  {
   "cell_type": "code",
   "execution_count": 10,
   "metadata": {},
   "outputs": [
    {
     "name": "stdout",
     "output_type": "stream",
     "text": [
      "(30000, 2)\n"
     ]
    }
   ],
   "source": [
    "print(df.shape)"
   ]
  },
  {
   "cell_type": "code",
   "execution_count": 11,
   "metadata": {},
   "outputs": [
    {
     "data": {
      "text/html": [
       "<div>\n",
       "<style>\n",
       "    .dataframe thead tr:only-child th {\n",
       "        text-align: right;\n",
       "    }\n",
       "\n",
       "    .dataframe thead th {\n",
       "        text-align: left;\n",
       "    }\n",
       "\n",
       "    .dataframe tbody tr th {\n",
       "        vertical-align: top;\n",
       "    }\n",
       "</style>\n",
       "<table border=\"1\" class=\"dataframe\">\n",
       "  <thead>\n",
       "    <tr style=\"text-align: right;\">\n",
       "      <th></th>\n",
       "      <th>review</th>\n",
       "      <th>sentiment</th>\n",
       "    </tr>\n",
       "  </thead>\n",
       "  <tbody>\n",
       "    <tr>\n",
       "      <th>0</th>\n",
       "      <td>cure one movies rated mean everything flawless...</td>\n",
       "      <td>1</td>\n",
       "    </tr>\n",
       "    <tr>\n",
       "      <th>1</th>\n",
       "      <td>cameron mitchell plays actor dating young actr...</td>\n",
       "      <td>0</td>\n",
       "    </tr>\n",
       "    <tr>\n",
       "      <th>2</th>\n",
       "      <td>ever hear three words uttered joe baker afraid...</td>\n",
       "      <td>0</td>\n",
       "    </tr>\n",
       "    <tr>\n",
       "      <th>3</th>\n",
       "      <td>road perdition movie undeservedly overlooked y...</td>\n",
       "      <td>1</td>\n",
       "    </tr>\n",
       "    <tr>\n",
       "      <th>4</th>\n",
       "      <td>thought nadir horror film making reached book ...</td>\n",
       "      <td>0</td>\n",
       "    </tr>\n",
       "  </tbody>\n",
       "</table>\n",
       "</div>"
      ],
      "text/plain": [
       "                                              review  sentiment\n",
       "0  cure one movies rated mean everything flawless...          1\n",
       "1  cameron mitchell plays actor dating young actr...          0\n",
       "2  ever hear three words uttered joe baker afraid...          0\n",
       "3  road perdition movie undeservedly overlooked y...          1\n",
       "4  thought nadir horror film making reached book ...          0"
      ]
     },
     "execution_count": 11,
     "metadata": {},
     "output_type": "execute_result"
    }
   ],
   "source": [
    "df.head()"
   ]
  },
  {
   "cell_type": "markdown",
   "metadata": {},
   "source": [
    "30000 instances and 2 features. The last column 'sentiment' is the class we want to predict based on the 'Review'. This is a case of Binary classification where based on the text of Review, Sentiment would be predicted as either of the following 2 classes:\n",
    "0--> Negative\n",
    "1-->Positive\n",
    "\n",
    "These value will determine the nature of comment."
   ]
  },
  {
   "cell_type": "code",
   "execution_count": 12,
   "metadata": {
    "collapsed": true
   },
   "outputs": [],
   "source": [
    "class_num = df['sentiment'].value_counts()"
   ]
  },
  {
   "cell_type": "code",
   "execution_count": 13,
   "metadata": {},
   "outputs": [
    {
     "name": "stdout",
     "output_type": "stream",
     "text": [
      "0    15006\n",
      "1    14994\n",
      "Name: sentiment, dtype: int64\n"
     ]
    }
   ],
   "source": [
    "# see how many instances for each class we want to predict\n",
    "print(class_num)"
   ]
  },
  {
   "cell_type": "code",
   "execution_count": 14,
   "metadata": {
    "scrolled": true
   },
   "outputs": [
    {
     "data": {
      "image/png": "[encoded data removed]",
      "text/plain": [
       "<matplotlib.figure.Figure at 0x7fd202361710>"
      ]
     },
     "metadata": {},
     "output_type": "display_data"
    }
   ],
   "source": [
    "import matplotlib.pyplot as plt\n",
    "plt.style.use('ggplot')\n",
    "\n",
    "ax = class_num.plot(kind='barh')\n",
    "plt.title('Two prediction classes')\n",
    "plt.show()"
   ]
  },
  {
   "cell_type": "markdown",
   "metadata": {},
   "source": [
    "> One thing to note here is that the prediction classes are equally distributed, which means no matter how we devide the test/train data, there will be no imbalance issue. We will use this fact to select our cross-validation model later."
   ]
  },
  {
   "cell_type": "code",
   "execution_count": 16,
   "metadata": {},
   "outputs": [
    {
     "name": "stdout",
     "output_type": "stream",
     "text": [
      "Collecting missingno\n",
      "  Downloading https://files.pythonhosted.org/packages/c8/84/4a058c3c5573f5465f28856b356f80468a5d86337659533a9b7669ee6db7/missingno-0.4.0.tar.gz\n",
      "Requirement already satisfied: numpy in /home/lisper/anaconda3/lib/python3.6/site-packages (from missingno) (1.13.3)\n",
      "Requirement already satisfied: matplotlib in /home/lisper/anaconda3/lib/python3.6/site-packages (from missingno) (2.1.0)\n",
      "Requirement already satisfied: scipy in /home/lisper/anaconda3/lib/python3.6/site-packages (from missingno) (0.19.1)\n",
      "Requirement already satisfied: seaborn in /home/lisper/anaconda3/lib/python3.6/site-packages (from missingno) (0.8)\n",
      "Requirement already satisfied: six>=1.10 in /home/lisper/anaconda3/lib/python3.6/site-packages (from matplotlib->missingno) (1.11.0)\n",
      "Requirement already satisfied: python-dateutil>=2.0 in /home/lisper/anaconda3/lib/python3.6/site-packages (from matplotlib->missingno) (2.6.1)\n",
      "Requirement already satisfied: pytz in /home/lisper/anaconda3/lib/python3.6/site-packages (from matplotlib->missingno) (2017.2)\n",
      "Requirement already satisfied: cycler>=0.10 in /home/lisper/anaconda3/lib/python3.6/site-packages (from matplotlib->missingno) (0.10.0)\n",
      "Requirement already satisfied: pyparsing!=2.0.4,!=2.1.2,!=2.1.6,>=2.0.1 in /home/lisper/anaconda3/lib/python3.6/site-packages (from matplotlib->missingno) (2.2.0)\n",
      "Requirement already satisfied: pandas in /home/lisper/anaconda3/lib/python3.6/site-packages (from seaborn->missingno) (0.20.3)\n",
      "Building wheels for collected packages: missingno\n",
      "  Running setup.py bdist_wheel for missingno ... \u001b[?25ldone\n",
      "\u001b[?25h  Stored in directory: /home/lisper/.cache/pip/wheels/e7/f2/2a/767a612cde8834415d23ab484c5d069fcd0ab3a85052cda6a6\n",
      "Successfully built missingno\n",
      "Installing collected packages: missingno\n",
      "Successfully installed missingno-0.4.0\n"
     ]
    },
    {
     "data": {
      "text/plain": [
       "<matplotlib.axes._subplots.AxesSubplot at 0x7fd1f730c550>"
      ]
     },
     "execution_count": 16,
     "metadata": {},
     "output_type": "execute_result"
    }
   ],
   "source": [
    "# see if there are empty data that need imputation\n",
    "!pip install missingno\n",
    "import missingno as mn\n",
    "\n",
    "mn.matrix(df.sort_values(by=[\"sentiment\",]))"
   ]
  },
  {
   "cell_type": "code",
   "execution_count": 17,
   "metadata": {},
   "outputs": [
    {
     "data": {
      "image/png": "[encoded data removed]",
      "text/plain": [
       "<matplotlib.figure.Figure at 0x7fd24ce7e0f0>"
      ]
     },
     "metadata": {},
     "output_type": "display_data"
    }
   ],
   "source": [
    "plt.show()"
   ]
  },
  {
   "cell_type": "markdown",
   "metadata": {},
   "source": [
    "Obviously no empty data as based on the review either o or 1 is predicted by binary clasification."
   ]
  },
  {
   "cell_type": "code",
   "execution_count": 21,
   "metadata": {},
   "outputs": [
    {
     "name": "stdout",
     "output_type": "stream",
     "text": [
      "(21000, 2) (9000, 2)\n",
      "[ 10509.  10491.]\n"
     ]
    }
   ],
   "source": [
    "from sklearn.model_selection import train_test_split\n",
    "#bunch = df['review'].values\n",
    "\n",
    "# Split it into train / test subsets\n",
    "\n",
    "X_train, X_test, y_train_ohe, y_test_ohe = train_test_split(df, y_ohe, test_size=0.3)\n",
    "\n",
    "NUM_CLASSES = y_ohe.shape[1]\n",
    "\n",
    "print(X_train.shape,X_test.shape)\n",
    "print(np.sum(y_train_ohe,axis=0))"
   ]
  },
  {
   "cell_type": "markdown",
   "metadata": {},
   "source": [
    "As mentioned before, the data instances in our data set are equally distributed between two prediction classes(positive vs negative), thus there will be no need for any form of stratified model(like K-fold stratified mothod). "
   ]
  },
  {
   "cell_type": "markdown",
   "metadata": {},
   "source": [
    "Also, since our dataset contains around 30000 words and we have limited time as well as computational power to do K-fold cross validation, the simpler hold out method will be a suitable method for splitting a data. That is because that if a proper data split is used for large amount of data, hold out method works good. Should we have more time or access to better computational power, we might try K-fold cross validation. This could be a 'TO-DO' item for future improment of the project. \n",
    "We tried the splitting of 80/20, 70/30 and 90/10. The best results were achieved with this 70/30 split. It is a well balanced split that keeps the model from over fitting. \n",
    "Cross avlidation will work best if we have less amount of data and need it to be divided properly such that all the data will get a chance to get into training set. Since we have a relatively big dataset (30000), in our case hold out method will be surficient.   "
   ]
  },
  {
   "cell_type": "code",
   "execution_count": 22,
   "metadata": {},
   "outputs": [
    {
     "ename": "NameError",
     "evalue": "name 'y_train' is not defined",
     "output_type": "error",
     "traceback": [
      "\u001b[0;31m---------------------------------------------------------------------------\u001b[0m",
      "\u001b[0;31mNameError\u001b[0m                                 Traceback (most recent call last)",
      "\u001b[0;32m<timed exec>\u001b[0m in \u001b[0;36m<module>\u001b[0;34m()\u001b[0m\n",
      "\u001b[0;31mNameError\u001b[0m: name 'y_train' is not defined"
     ]
    }
   ],
   "source": [
    "%%time\n",
    "from sklearn.model_selection import cross_val_score\n",
    "from sklearn.linear_model import LogisticRegression\n",
    "# select model\n",
    "clf = LogisticRegression()\n",
    "#select cross validation\n",
    "#cv = KFold(n_splits=10, shuffle=False, random_state=None).split(X_train, y_train)\n",
    "\n",
    "per_fold_eval_criteria = cross_val_score(estimator=clf,\n",
    "                                    X=X_train,\n",
    "                                    y=y_train,\n",
    "                                    #cv=cv,#integer, to specify the number of folds in a (Stratified)KFold\n",
    "                                    scoring='accuracy')\n",
    "\n",
    "print('Accuracy', np.mean(per_fold_eval_criteria), per_fold_eval_criteria)\n",
    "\n",
    "plt.bar(range(len(per_fold_eval_criteria)),per_fold_eval_criteria)\n",
    "plt.ylim([min(per_fold_eval_criteria)-0.01,max(per_fold_eval_criteria)])"
   ]
  },
  {
   "cell_type": "markdown",
   "metadata": {},
   "source": [
    "For our dataset, we are performing abinary classification where both the classes have equal importance as it would be difficult to argue whether positive review is more important than negative or vice-versa as both have their own important role to play in sentiment analysis done based on the review coments and these comments express the same range of opinions and subjectivity. Also, for movie reviews, there are not much difference between False Negatives(FN)and False Positives(FP) and they wont affect much. What people want from the classification is to honestly see how much people love or hate a movie. Therefore, in our case, \"Accuracy\" is considered to be good for evaluation criteria.\n",
    "\n",
    "\n",
    "To explore the idea, we made a Cost Matrix like below:\n",
    "\n",
    "| Cost\t| Predict No \t| Predict Yes\t|\n",
    "|----\t|----\t|----\t|\n",
    "| Actual No \t| -10 \t| 1 \t|\n",
    "| Actual Yes \t| 1 \t| -10 \t|\n",
    "\n",
    "As we can see from the above matrix,\n",
    "If the review comment is negative and is predicted as Negative (True Negative)('0' for our case ) else, if the review comment is positive and based on sentiment analysis is predicted to be Positive (True Positive)('1' for our case), both the cases it helps us by actually reducing the cost, so we give both -10 cost.\n",
    "\n",
    "In cases of False Poisitive and False Negative, it's not good for us but can be considered OK as these might be resulted from the comments which are not too extreme Positive/Negative and neutral in nature hence will not contribute towards the cost much. So we alloted small amount of cost to it as 1 as the loss suffered due to it is not impactful.\n",
    "\n",
    "However, it is worth to explore other varients of sentiment classification problems. If we are talking about other category of reviews, like Amazon merchandise review, people may pay much more attention to negative reviews than positive reviews. For seller, they need to single out negative reviews so valuable customer feedback can be extracted to improve the product or services. For customer, they are more concerned about whether the product have some flaw that will be a deal breaker for them. In this case, a false possitive bare much more weight than a false negative. Since if the model predict a reveiw as positive while it's actually negative, missing one valuable negative reviews might cause the seller or buyer more. The Cost Matrix looks like thi:\n",
    "\n",
    "| Cost\t| Predict No \t| Predict Yes\t|\n",
    "|----\t|----\t|----\t|\n",
    "| Actual No \t| -10 \t| 20 \t|\n",
    "| Actual Yes \t| 5 \t| -10 \t|\n"
   ]
  },
  {
   "cell_type": "code",
   "execution_count": 51,
   "metadata": {
    "collapsed": true
   },
   "outputs": [],
   "source": [
    "#Using because train and test split already provided.\n",
    "X_train = X[:25000]\n",
    "y_train_ohe = y_ohe[:25000]\n",
    "y_train = y[:25000]\n",
    "X_test = X[25000:]\n",
    "y_test_ohe = y_ohe[25000:]\n",
    "y_test = y[25000:]\n",
    "\n",
    "\n",
    "NUM_CLASSES = y_ohe.shape[1]"
   ]
  },
  {
   "cell_type": "markdown",
   "metadata": {},
   "source": [
    "# Modelling"
   ]
  },
  {
   "cell_type": "markdown",
   "metadata": {},
   "source": [
    "[15 points] Investigate at least two different recurrent network architectures (perhaps LSTM and GRU). Be sure to use an embedding layer (pre-trained, from scratch, or both). Adjust hyper-parameters of the networks as needed to improve generalization performance.\n",
    "\n",
    "[15 points] Using the best RNN parameters and architecture, add a second recurrent chain to your RNN. The input to the second chain should be the output sequence of the first chain. Visualize the performance of training and validation sets versus the training iterations. \n",
    "\n",
    "[20 points] Use the method of cross validation and evaluation criteria that you argued for at the beginning of the lab. Visualize the results of all the RNNs you trained.  Use proper statistical comparison techniques to determine which method(s) is (are) superior.  "
   ]
  },
  {
   "cell_type": "code",
   "execution_count": 59,
   "metadata": {
    "collapsed": true
   },
   "outputs": [],
   "source": [
    "from sklearn import metrics as mt\n",
    "from matplotlib import pyplot as plt\n",
    "import seaborn as sns\n",
    "%matplotlib inline\n",
    "\n",
    "\n",
    "def plot_performance(history): \n",
    "    from matplotlib import pyplot as plt\n",
    "\n",
    "    %matplotlib inline\n",
    "\n",
    "    plt.figure(figsize=(10,4))\n",
    "    plt.subplot(2,2,1)\n",
    "    plt.plot(history.history['acc'])\n",
    "\n",
    "    plt.ylabel('Accuracy %')\n",
    "    plt.title('Training')\n",
    "    plt.subplot(2,2,2)\n",
    "    plt.plot(history.history['val_acc'])\n",
    "    plt.title('Validation')\n",
    "\n",
    "    plt.subplot(2,2,3)\n",
    "    plt.plot(history.history['loss'])\n",
    "    plt.ylabel('MSE Training Loss')\n",
    "    plt.xlabel('epochs')\n",
    "\n",
    "    plt.subplot(2,2,4)\n",
    "    plt.plot(history.history['val_loss'])\n",
    "    plt.xlabel('epochs')\n",
    "    \n",
    "def summarize_net(net, X_test, y_test, title_text=''):\n",
    "    plt.figure(figsize=(15,5))\n",
    "    yhat = np.argmax(net.predict(X_test), axis=1)\n",
    "    acc = mt.accuracy_score(y_test,yhat)\n",
    "    cm = mt.confusion_matrix(y_test,yhat)\n",
    "    cm = cm/np.sum(cm,axis=1)[:,np.newaxis]\n",
    "    sns.heatmap(cm, annot=True, fmt='.2f')\n",
    "    plt.title(title_text+'{:.4f}'.format(acc))"
   ]
  },
  {
   "cell_type": "code",
   "execution_count": 60,
   "metadata": {},
   "outputs": [
    {
     "name": "stdout",
     "output_type": "stream",
     "text": [
      "Found 400000 word vectors.\n",
      "CPU times: user 9.63 s, sys: 327 ms, total: 9.95 s\n",
      "Wall time: 10.1 s\n"
     ]
    }
   ],
   "source": [
    "%%time\n",
    "#Download from here : http://nlp.stanford.edu/data/glove.6B.zip\n",
    "\n",
    "EMBED_SIZE = 100\n",
    "# the embed size should match the file you load glove from\n",
    "embeddings_index = {}\n",
    "f = open('./glove.6B/glove.6B.100d.txt', encoding=\"utf-8\")\n",
    "# save key/array pairs of the embeddings\n",
    "#  the key of the dictionary is the word, the array is the embedding\n",
    "for line in f:\n",
    "    values = line.split()\n",
    "    word = values[0]\n",
    "    coefs = np.asarray(values[1:], dtype='float32')\n",
    "    embeddings_index[word] = coefs\n",
    "f.close()\n",
    "\n",
    "print('Found %s word vectors.' % len(embeddings_index))"
   ]
  },
  {
   "cell_type": "code",
   "execution_count": 61,
   "metadata": {},
   "outputs": [
    {
     "name": "stdout",
     "output_type": "stream",
     "text": [
      "(101246, 100)\n"
     ]
    }
   ],
   "source": [
    "# now fill in the matrix, using the ordering from the\n",
    "#  keras word tokenizer from before\n",
    "embedding_matrix = np.zeros((len(word_index) + 1, EMBED_SIZE))\n",
    "for word, i in word_index.items():\n",
    "    embedding_vector = embeddings_index.get(word)\n",
    "    if embedding_vector is not None:\n",
    "        # words not found in embedding index will be all-zeros.\n",
    "        embedding_matrix[i] = embedding_vector\n",
    "\n",
    "print(embedding_matrix.shape)"
   ]
  },
  {
   "cell_type": "code",
   "execution_count": 62,
   "metadata": {
    "collapsed": true
   },
   "outputs": [],
   "source": [
    "from keras.layers import Embedding\n",
    "\n",
    "embedding_layer = Embedding(len(word_index) + 1,\n",
    "                            EMBED_SIZE,\n",
    "                            weights=[embedding_matrix],\n",
    "                            input_length=maxlen,\n",
    "                            trainable=False)"
   ]
  },
  {
   "cell_type": "code",
   "execution_count": 63,
   "metadata": {},
   "outputs": [
    {
     "name": "stdout",
     "output_type": "stream",
     "text": [
      "_________________________________________________________________\n",
      "Layer (type)                 Output Shape              Param #   \n",
      "=================================================================\n",
      "embedding_5 (Embedding)      (None, 100, 100)          10124600  \n",
      "_________________________________________________________________\n",
      "lstm_4 (LSTM)                (None, 100)               80400     \n",
      "_________________________________________________________________\n",
      "dense_4 (Dense)              (None, 2)                 202       \n",
      "=================================================================\n",
      "Total params: 10,205,202\n",
      "Trainable params: 80,602\n",
      "Non-trainable params: 10,124,600\n",
      "_________________________________________________________________\n",
      "None\n"
     ]
    }
   ],
   "source": [
    "from keras.models import Sequential\n",
    "from keras.layers import Dense\n",
    "from keras.layers import LSTM\n",
    "\n",
    "rnn = Sequential()\n",
    "rnn.add(embedding_layer)\n",
    "rnn.add(LSTM(100,dropout=0.2, recurrent_dropout=0.2))\n",
    "rnn.add(Dense(NUM_CLASSES, activation='sigmoid'))\n",
    "rnn.compile(loss='categorical_crossentropy', \n",
    "              optimizer='rmsprop', \n",
    "              metrics=['accuracy'])\n",
    "print(rnn.summary())"
   ]
  },
  {
   "cell_type": "code",
   "execution_count": 64,
   "metadata": {},
   "outputs": [
    {
     "ename": "ValueError",
     "evalue": "Error when checking input: expected embedding_5_input to have shape (100,) but got array with shape (2,)",
     "output_type": "error",
     "traceback": [
      "\u001b[0;31m---------------------------------------------------------------------------\u001b[0m",
      "\u001b[0;31mValueError\u001b[0m                                Traceback (most recent call last)",
      "\u001b[0;32m<ipython-input-64-92c53db45cf5>\u001b[0m in \u001b[0;36m<module>\u001b[0;34m()\u001b[0m\n\u001b[0;32m----> 1\u001b[0;31m \u001b[0mhistory_1\u001b[0m \u001b[0;34m=\u001b[0m \u001b[0mrnn\u001b[0m\u001b[0;34m.\u001b[0m\u001b[0mfit\u001b[0m\u001b[0;34m(\u001b[0m\u001b[0mX_train\u001b[0m\u001b[0;34m,\u001b[0m \u001b[0my_train_ohe\u001b[0m\u001b[0;34m,\u001b[0m \u001b[0mvalidation_data\u001b[0m\u001b[0;34m=\u001b[0m\u001b[0;34m(\u001b[0m\u001b[0mX_test\u001b[0m\u001b[0;34m,\u001b[0m \u001b[0my_test_ohe\u001b[0m\u001b[0;34m)\u001b[0m\u001b[0;34m,\u001b[0m \u001b[0mepochs\u001b[0m\u001b[0;34m=\u001b[0m\u001b[0;36m10\u001b[0m\u001b[0;34m,\u001b[0m \u001b[0mbatch_size\u001b[0m\u001b[0;34m=\u001b[0m\u001b[0;36m64\u001b[0m\u001b[0;34m)\u001b[0m\u001b[0;34m\u001b[0m\u001b[0m\n\u001b[0m",
      "\u001b[0;32m/anaconda3/lib/python3.6/site-packages/keras/models.py\u001b[0m in \u001b[0;36mfit\u001b[0;34m(self, x, y, batch_size, epochs, verbose, callbacks, validation_split, validation_data, shuffle, class_weight, sample_weight, initial_epoch, steps_per_epoch, validation_steps, **kwargs)\u001b[0m\n\u001b[1;32m    961\u001b[0m                               \u001b[0minitial_epoch\u001b[0m\u001b[0;34m=\u001b[0m\u001b[0minitial_epoch\u001b[0m\u001b[0;34m,\u001b[0m\u001b[0;34m\u001b[0m\u001b[0m\n\u001b[1;32m    962\u001b[0m                               \u001b[0msteps_per_epoch\u001b[0m\u001b[0;34m=\u001b[0m\u001b[0msteps_per_epoch\u001b[0m\u001b[0;34m,\u001b[0m\u001b[0;34m\u001b[0m\u001b[0m\n\u001b[0;32m--> 963\u001b[0;31m                               validation_steps=validation_steps)\n\u001b[0m\u001b[1;32m    964\u001b[0m \u001b[0;34m\u001b[0m\u001b[0m\n\u001b[1;32m    965\u001b[0m     def evaluate(self, x=None, y=None,\n",
      "\u001b[0;32m/anaconda3/lib/python3.6/site-packages/keras/engine/training.py\u001b[0m in \u001b[0;36mfit\u001b[0;34m(self, x, y, batch_size, epochs, verbose, callbacks, validation_split, validation_data, shuffle, class_weight, sample_weight, initial_epoch, steps_per_epoch, validation_steps, **kwargs)\u001b[0m\n\u001b[1;32m   1628\u001b[0m             \u001b[0msample_weight\u001b[0m\u001b[0;34m=\u001b[0m\u001b[0msample_weight\u001b[0m\u001b[0;34m,\u001b[0m\u001b[0;34m\u001b[0m\u001b[0m\n\u001b[1;32m   1629\u001b[0m             \u001b[0mclass_weight\u001b[0m\u001b[0;34m=\u001b[0m\u001b[0mclass_weight\u001b[0m\u001b[0;34m,\u001b[0m\u001b[0;34m\u001b[0m\u001b[0m\n\u001b[0;32m-> 1630\u001b[0;31m             batch_size=batch_size)\n\u001b[0m\u001b[1;32m   1631\u001b[0m         \u001b[0;31m# Prepare validation data.\u001b[0m\u001b[0;34m\u001b[0m\u001b[0;34m\u001b[0m\u001b[0m\n\u001b[1;32m   1632\u001b[0m         \u001b[0mdo_validation\u001b[0m \u001b[0;34m=\u001b[0m \u001b[0;32mFalse\u001b[0m\u001b[0;34m\u001b[0m\u001b[0m\n",
      "\u001b[0;32m/anaconda3/lib/python3.6/site-packages/keras/engine/training.py\u001b[0m in \u001b[0;36m_standardize_user_data\u001b[0;34m(self, x, y, sample_weight, class_weight, check_array_lengths, batch_size)\u001b[0m\n\u001b[1;32m   1474\u001b[0m                                     \u001b[0mself\u001b[0m\u001b[0;34m.\u001b[0m\u001b[0m_feed_input_shapes\u001b[0m\u001b[0;34m,\u001b[0m\u001b[0;34m\u001b[0m\u001b[0m\n\u001b[1;32m   1475\u001b[0m                                     \u001b[0mcheck_batch_axis\u001b[0m\u001b[0;34m=\u001b[0m\u001b[0;32mFalse\u001b[0m\u001b[0;34m,\u001b[0m\u001b[0;34m\u001b[0m\u001b[0m\n\u001b[0;32m-> 1476\u001b[0;31m                                     exception_prefix='input')\n\u001b[0m\u001b[1;32m   1477\u001b[0m         y = _standardize_input_data(y, self._feed_output_names,\n\u001b[1;32m   1478\u001b[0m                                     \u001b[0moutput_shapes\u001b[0m\u001b[0;34m,\u001b[0m\u001b[0;34m\u001b[0m\u001b[0m\n",
      "\u001b[0;32m/anaconda3/lib/python3.6/site-packages/keras/engine/training.py\u001b[0m in \u001b[0;36m_standardize_input_data\u001b[0;34m(data, names, shapes, check_batch_axis, exception_prefix)\u001b[0m\n\u001b[1;32m    121\u001b[0m                             \u001b[0;34m': expected '\u001b[0m \u001b[0;34m+\u001b[0m \u001b[0mnames\u001b[0m\u001b[0;34m[\u001b[0m\u001b[0mi\u001b[0m\u001b[0;34m]\u001b[0m \u001b[0;34m+\u001b[0m \u001b[0;34m' to have shape '\u001b[0m \u001b[0;34m+\u001b[0m\u001b[0;34m\u001b[0m\u001b[0m\n\u001b[1;32m    122\u001b[0m                             \u001b[0mstr\u001b[0m\u001b[0;34m(\u001b[0m\u001b[0mshape\u001b[0m\u001b[0;34m)\u001b[0m \u001b[0;34m+\u001b[0m \u001b[0;34m' but got array with shape '\u001b[0m \u001b[0;34m+\u001b[0m\u001b[0;34m\u001b[0m\u001b[0m\n\u001b[0;32m--> 123\u001b[0;31m                             str(data_shape))\n\u001b[0m\u001b[1;32m    124\u001b[0m     \u001b[0;32mreturn\u001b[0m \u001b[0mdata\u001b[0m\u001b[0;34m\u001b[0m\u001b[0m\n\u001b[1;32m    125\u001b[0m \u001b[0;34m\u001b[0m\u001b[0m\n",
      "\u001b[0;31mValueError\u001b[0m: Error when checking input: expected embedding_5_input to have shape (100,) but got array with shape (2,)"
     ]
    }
   ],
   "source": [
    "history_1 = rnn.fit(X_train, y_train_ohe, validation_data=(X_test, y_test_ohe), epochs=10, batch_size=64)"
   ]
  },
  {
   "cell_type": "code",
   "execution_count": null,
   "metadata": {
    "collapsed": true
   },
   "outputs": [],
   "source": [
    "plot_performance(history_1)"
   ]
  },
  {
   "cell_type": "code",
   "execution_count": 23,
   "metadata": {},
   "outputs": [
    {
     "data": {
      "image/png": "[encoded data removed]",
      "text/plain": [
       "<Figure size 1080x360 with 2 Axes>"
      ]
     },
     "metadata": {},
     "output_type": "display_data"
    }
   ],
   "source": [
    "summarize_net(rnn, X_test, y_test, title_text='RNN:')"
   ]
  },
  {
   "cell_type": "code",
   "execution_count": 24,
   "metadata": {},
   "outputs": [
    {
     "name": "stdout",
     "output_type": "stream",
     "text": [
      "_________________________________________________________________\n",
      "Layer (type)                 Output Shape              Param #   \n",
      "=================================================================\n",
      "embedding_1 (Embedding)      (None, 100, 100)          10124600  \n",
      "_________________________________________________________________\n",
      "lstm_2 (LSTM)                (None, 100)               80400     \n",
      "_________________________________________________________________\n",
      "dense_2 (Dense)              (None, 100)               10100     \n",
      "_________________________________________________________________\n",
      "dropout_1 (Dropout)          (None, 100)               0         \n",
      "_________________________________________________________________\n",
      "dense_3 (Dense)              (None, 2)                 202       \n",
      "=================================================================\n",
      "Total params: 10,215,302\n",
      "Trainable params: 90,702\n",
      "Non-trainable params: 10,124,600\n",
      "_________________________________________________________________\n",
      "None\n"
     ]
    }
   ],
   "source": [
    "from keras.layers import Dropout\n",
    "\n",
    "rnn2 = Sequential()\n",
    "rnn2.add(embedding_layer)\n",
    "rnn2.add(LSTM(100,dropout=0.2, recurrent_dropout=0.2))\n",
    "rnn2.add(Dense(100, activation='relu'))\n",
    "rnn2.add(Dropout(0.2))\n",
    "rnn2.add(Dense(NUM_CLASSES, activation='sigmoid'))\n",
    "rnn2.compile(loss='categorical_crossentropy', \n",
    "              optimizer='rmsprop', \n",
    "              metrics=['accuracy'])\n",
    "print(rnn2.summary())"
   ]
  },
  {
   "cell_type": "code",
   "execution_count": 25,
   "metadata": {},
   "outputs": [
    {
     "name": "stdout",
     "output_type": "stream",
     "text": [
      "Train on 25000 samples, validate on 25000 samples\n",
      "Epoch 1/10\n",
      "25000/25000 [==============================] - 91s 4ms/step - loss: 0.5640 - acc: 0.7138 - val_loss: 0.4527 - val_acc: 0.7886\n",
      "Epoch 2/10\n",
      "25000/25000 [==============================] - 81s 3ms/step - loss: 0.4701 - acc: 0.7787 - val_loss: 0.3930 - val_acc: 0.8259\n",
      "Epoch 3/10\n",
      "25000/25000 [==============================] - 83s 3ms/step - loss: 0.4184 - acc: 0.8102 - val_loss: 0.3811 - val_acc: 0.8265\n",
      "Epoch 4/10\n",
      "25000/25000 [==============================] - 79s 3ms/step - loss: 0.3866 - acc: 0.8256 - val_loss: 0.3524 - val_acc: 0.8470\n",
      "Epoch 5/10\n",
      "25000/25000 [==============================] - 78s 3ms/step - loss: 0.3632 - acc: 0.8382 - val_loss: 0.3432 - val_acc: 0.8513\n",
      "Epoch 6/10\n",
      "25000/25000 [==============================] - 77s 3ms/step - loss: 0.3448 - acc: 0.8500 - val_loss: 0.3334 - val_acc: 0.8580\n",
      "Epoch 7/10\n",
      "25000/25000 [==============================] - 77s 3ms/step - loss: 0.3280 - acc: 0.8584 - val_loss: 0.3312 - val_acc: 0.8625\n",
      "Epoch 8/10\n",
      "25000/25000 [==============================] - 77s 3ms/step - loss: 0.3143 - acc: 0.8644 - val_loss: 0.3615 - val_acc: 0.8417\n",
      "Epoch 9/10\n",
      "25000/25000 [==============================] - 77s 3ms/step - loss: 0.3033 - acc: 0.8702 - val_loss: 0.3204 - val_acc: 0.8652\n",
      "Epoch 10/10\n",
      "25000/25000 [==============================] - 79s 3ms/step - loss: 0.2939 - acc: 0.8743 - val_loss: 0.3249 - val_acc: 0.8670\n"
     ]
    }
   ],
   "source": [
    "history_2 = rnn2.fit(X_train, y_train_ohe, validation_data=(X_test, y_test_ohe), epochs=10, batch_size=64)"
   ]
  },
  {
   "cell_type": "code",
   "execution_count": 26,
   "metadata": {},
   "outputs": [
    {
     "data": {
      "image/png": "[encoded data removed]",
      "text/plain": [
       "<Figure size 720x288 with 4 Axes>"
      ]
     },
     "metadata": {},
     "output_type": "display_data"
    }
   ],
   "source": [
    "plot_performance(history_2)"
   ]
  },
  {
   "cell_type": "code",
   "execution_count": 27,
   "metadata": {},
   "outputs": [
    {
     "data": {
      "image/png": "[encoded data removed]",
      "text/plain": [
       "<Figure size 1080x360 with 2 Axes>"
      ]
     },
     "metadata": {},
     "output_type": "display_data"
    }
   ],
   "source": [
    "summarize_net(rnn2, X_test, y_test, title_text='RNN:')"
   ]
  },
  {
   "cell_type": "markdown",
   "metadata": {},
   "source": [
    "# GRU"
   ]
  },
  {
   "cell_type": "code",
   "execution_count": 28,
   "metadata": {},
   "outputs": [
    {
     "name": "stdout",
     "output_type": "stream",
     "text": [
      "_________________________________________________________________\n",
      "Layer (type)                 Output Shape              Param #   \n",
      "=================================================================\n",
      "embedding_1 (Embedding)      (None, 100, 100)          10124600  \n",
      "_________________________________________________________________\n",
      "lstm_1 (LSTM)                (None, 100)               80400     \n",
      "_________________________________________________________________\n",
      "dense_1 (Dense)              (None, 2)                 202       \n",
      "=================================================================\n",
      "Total params: 10,205,202\n",
      "Trainable params: 80,602\n",
      "Non-trainable params: 10,124,600\n",
      "_________________________________________________________________\n",
      "None\n"
     ]
    }
   ],
   "source": [
    "from keras.layers import GRU\n",
    "\n",
    "rnn_gru = Sequential()\n",
    "rnn_gru.add(embedding_layer)\n",
    "rnn_gru.add(GRU(100, dropout=0.2, \n",
    "                     recurrent_dropout=0.2,\n",
    "                     return_sequences=False))\n",
    "rnn_gru.add(Dense(NUM_CLASSES, activation='sigmoid'))\n",
    "rnn_gru.compile(loss='categorical_crossentropy', \n",
    "              optimizer='rmsprop', \n",
    "              metrics=['accuracy'])\n",
    "print(rnn.summary())"
   ]
  },
  {
   "cell_type": "code",
   "execution_count": 29,
   "metadata": {},
   "outputs": [
    {
     "name": "stdout",
     "output_type": "stream",
     "text": [
      "Train on 25000 samples, validate on 25000 samples\n",
      "Epoch 1/10\n",
      "25000/25000 [==============================] - 70s 3ms/step - loss: 0.5266 - acc: 0.7301 - val_loss: 0.3939 - val_acc: 0.8224\n",
      "Epoch 2/10\n",
      "25000/25000 [==============================] - 67s 3ms/step - loss: 0.4060 - acc: 0.8154 - val_loss: 0.3624 - val_acc: 0.8382\n",
      "Epoch 3/10\n",
      "25000/25000 [==============================] - 69s 3ms/step - loss: 0.3701 - acc: 0.8352 - val_loss: 0.3441 - val_acc: 0.8489\n",
      "Epoch 4/10\n",
      "25000/25000 [==============================] - 74s 3ms/step - loss: 0.3507 - acc: 0.8446 - val_loss: 0.3241 - val_acc: 0.8593\n",
      "Epoch 5/10\n",
      "25000/25000 [==============================] - 74s 3ms/step - loss: 0.3297 - acc: 0.8558 - val_loss: 0.3333 - val_acc: 0.8544\n",
      "Epoch 6/10\n",
      "25000/25000 [==============================] - 77s 3ms/step - loss: 0.3204 - acc: 0.8624 - val_loss: 0.3268 - val_acc: 0.8586\n",
      "Epoch 7/10\n",
      "25000/25000 [==============================] - 81s 3ms/step - loss: 0.3038 - acc: 0.8701 - val_loss: 0.3062 - val_acc: 0.8697\n",
      "Epoch 8/10\n",
      "25000/25000 [==============================] - 76s 3ms/step - loss: 0.2908 - acc: 0.8785 - val_loss: 0.3149 - val_acc: 0.8665\n",
      "Epoch 9/10\n",
      "25000/25000 [==============================] - 78s 3ms/step - loss: 0.2812 - acc: 0.8812 - val_loss: 0.2999 - val_acc: 0.8716\n",
      "Epoch 10/10\n",
      "25000/25000 [==============================] - 77s 3ms/step - loss: 0.2690 - acc: 0.8870 - val_loss: 0.3085 - val_acc: 0.8694\n"
     ]
    }
   ],
   "source": [
    "history_3 = rnn_gru.fit(X_train, y_train_ohe, validation_data=(X_test, y_test_ohe), epochs=10, batch_size=64)"
   ]
  },
  {
   "cell_type": "code",
   "execution_count": 30,
   "metadata": {},
   "outputs": [
    {
     "data": {
      "image/png": "[encoded data removed]",
      "text/plain": [
       "<Figure size 720x288 with 4 Axes>"
      ]
     },
     "metadata": {},
     "output_type": "display_data"
    }
   ],
   "source": [
    "plot_performance(history_3)"
   ]
  },
  {
   "cell_type": "code",
   "execution_count": 31,
   "metadata": {},
   "outputs": [
    {
     "data": {
      "image/png": "[encoded data removed]",
      "text/plain": [
       "<Figure size 1080x360 with 2 Axes>"
      ]
     },
     "metadata": {},
     "output_type": "display_data"
    }
   ],
   "source": [
    "summarize_net(rnn_gru, X_test, y_test, title_text='RNN:')"
   ]
  },
  {
   "cell_type": "code",
   "execution_count": 32,
   "metadata": {},
   "outputs": [
    {
     "name": "stdout",
     "output_type": "stream",
     "text": [
      "_________________________________________________________________\n",
      "Layer (type)                 Output Shape              Param #   \n",
      "=================================================================\n",
      "embedding_1 (Embedding)      (None, 100, 100)          10124600  \n",
      "_________________________________________________________________\n",
      "lstm_1 (LSTM)                (None, 100)               80400     \n",
      "_________________________________________________________________\n",
      "dense_1 (Dense)              (None, 2)                 202       \n",
      "=================================================================\n",
      "Total params: 10,205,202\n",
      "Trainable params: 80,602\n",
      "Non-trainable params: 10,124,600\n",
      "_________________________________________________________________\n",
      "None\n"
     ]
    }
   ],
   "source": [
    "rnn_gru2 = Sequential()\n",
    "rnn_gru2.add(embedding_layer)\n",
    "rnn_gru2.add(GRU(200, dropout=0.2, \n",
    "                     recurrent_dropout=0.2,\n",
    "                     return_sequences=False))\n",
    "rnn_gru2.add(Dense(NUM_CLASSES, activation='sigmoid'))\n",
    "rnn_gru2.compile(loss='categorical_crossentropy', \n",
    "              optimizer='rmsprop', \n",
    "              metrics=['accuracy'])\n",
    "print(rnn.summary())"
   ]
  },
  {
   "cell_type": "code",
   "execution_count": 33,
   "metadata": {},
   "outputs": [
    {
     "name": "stdout",
     "output_type": "stream",
     "text": [
      "Train on 25000 samples, validate on 25000 samples\n",
      "Epoch 1/10\n",
      "25000/25000 [==============================] - 78s 3ms/step - loss: 0.5184 - acc: 0.7412 - val_loss: 0.4724 - val_acc: 0.7682\n",
      "Epoch 2/10\n",
      "25000/25000 [==============================] - 75s 3ms/step - loss: 0.4002 - acc: 0.8180 - val_loss: 0.3527 - val_acc: 0.8434\n",
      "Epoch 3/10\n",
      "25000/25000 [==============================] - 77s 3ms/step - loss: 0.3605 - acc: 0.8402 - val_loss: 0.3641 - val_acc: 0.8378\n",
      "Epoch 4/10\n",
      "25000/25000 [==============================] - 76s 3ms/step - loss: 0.3363 - acc: 0.8517 - val_loss: 0.3465 - val_acc: 0.8492\n",
      "Epoch 5/10\n",
      "25000/25000 [==============================] - 76s 3ms/step - loss: 0.3179 - acc: 0.8618 - val_loss: 0.3121 - val_acc: 0.8660\n",
      "Epoch 6/10\n",
      "25000/25000 [==============================] - 76s 3ms/step - loss: 0.2968 - acc: 0.8709 - val_loss: 0.3102 - val_acc: 0.8659\n",
      "Epoch 7/10\n",
      "25000/25000 [==============================] - 77s 3ms/step - loss: 0.2819 - acc: 0.8781 - val_loss: 0.3118 - val_acc: 0.8672\n",
      "Epoch 8/10\n",
      "25000/25000 [==============================] - 76s 3ms/step - loss: 0.2618 - acc: 0.8890 - val_loss: 0.3055 - val_acc: 0.8728\n",
      "Epoch 9/10\n",
      "25000/25000 [==============================] - 76s 3ms/step - loss: 0.2499 - acc: 0.8948 - val_loss: 0.3263 - val_acc: 0.8671\n",
      "Epoch 10/10\n",
      "25000/25000 [==============================] - 75s 3ms/step - loss: 0.2336 - acc: 0.9022 - val_loss: 0.3079 - val_acc: 0.8724\n"
     ]
    }
   ],
   "source": [
    "history_4 = rnn_gru2.fit(X_train, y_train_ohe, validation_data=(X_test, y_test_ohe), epochs=10, batch_size=64)"
   ]
  },
  {
   "cell_type": "code",
   "execution_count": 34,
   "metadata": {},
   "outputs": [
    {
     "data": {
      "image/png": "[encoded data removed]",
      "text/plain": [
       "<Figure size 720x288 with 4 Axes>"
      ]
     },
     "metadata": {},
     "output_type": "display_data"
    }
   ],
   "source": [
    "plot_performance(history_4)"
   ]
  },
  {
   "cell_type": "code",
   "execution_count": 35,
   "metadata": {},
   "outputs": [
    {
     "data": {
      "image/png": "[encoded data removed]",
      "text/plain": [
       "<Figure size 1080x360 with 2 Axes>"
      ]
     },
     "metadata": {},
     "output_type": "display_data"
    }
   ],
   "source": [
    "summarize_net(rnn_gru, X_test, y_test, title_text='RNN:')"
   ]
  },
  {
   "cell_type": "markdown",
   "metadata": {},
   "source": [
    "# Reference"
   ]
  },
  {
   "cell_type": "markdown",
   "metadata": {},
   "source": [
    "1. https://github.com/rasbt/python-machine-learning-book/blob/master/code/optional-py-scripts/ch08.py\n",
    "2. https://github.com/rasbt/python-machine-learning-book/blob/master/code/ch08/ch08.ipynb\n",
    "3. https://cs224d.stanford.edu/reports/TimmarajuAditya.pdf"
   ]
  }
 ],
 "metadata": {
  "kernelspec": {
   "display_name": "Python 3",
   "language": "python",
   "name": "python3"
  },
  "language_info": {
   "codemirror_mode": {
    "name": "ipython",
    "version": 3
   },
   "file_extension": ".py",
   "mimetype": "text/x-python",
   "name": "python",
   "nbconvert_exporter": "python",
   "pygments_lexer": "ipython3",
   "version": "3.6.3"
  },
  "varInspector": {
   "cols": {
    "lenName": 16,
    "lenType": 16,
    "lenVar": 40
   },
   "kernels_config": {
    "python": {
     "delete_cmd_postfix": "",
     "delete_cmd_prefix": "del ",
     "library": "var_list.py",
     "varRefreshCmd": "print(var_dic_list())"
    },
    "r": {
     "delete_cmd_postfix": ") ",
     "delete_cmd_prefix": "rm(",
     "library": "var_list.r",
     "varRefreshCmd": "cat(var_dic_list()) "
    }
   },
   "types_to_exclude": [
    "module",
    "function",
    "builtin_function_or_method",
    "instance",
    "_Feature"
   ],
   "window_display": false
  }
 },
 "nbformat": 4,
 "nbformat_minor": 2
}
